{
 "cells": [
  {
   "cell_type": "markdown",
   "id": "3b339f7f-e718-4a73-be50-311ee79d7771",
   "metadata": {},
   "source": [
    "# Plotting dataframes"
   ]
  },
  {
   "cell_type": "code",
   "execution_count": 1,
   "id": "b95d5991-8b33-4470-843e-ca209bdb2f92",
   "metadata": {},
   "outputs": [],
   "source": [
    "import pandas as pd\n",
    "import matplotlib.pyplot as plt"
   ]
  },
  {
   "cell_type": "code",
   "execution_count": null,
   "id": "b7f7926f-0a36-40c3-98e7-fec9b9545e29",
   "metadata": {},
   "outputs": [],
   "source": []
  }
 ],
 "metadata": {
  "kernelspec": {
   "display_name": "Python 3 (ipykernel)",
   "language": "python",
   "name": "python3"
  },
  "language_info": {
   "codemirror_mode": {
    "name": "ipython",
    "version": 3
   },
   "file_extension": ".py",
   "mimetype": "text/x-python",
   "name": "python",
   "nbconvert_exporter": "python",
   "pygments_lexer": "ipython3",
   "version": "3.11.3"
  }
 },
 "nbformat": 4,
 "nbformat_minor": 5
}
