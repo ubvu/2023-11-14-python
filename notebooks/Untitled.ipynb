{
 "cells": [
  {
   "cell_type": "code",
   "execution_count": 1,
   "id": "e9134c61-ce1f-4d30-884a-38fc009b9876",
   "metadata": {
    "tags": []
   },
   "outputs": [],
   "source": [
    "## something"
   ]
  },
  {
   "cell_type": "code",
   "execution_count": null,
   "id": "bd66302d-5fd0-4904-b554-b4d636435420",
   "metadata": {},
   "outputs": [],
   "source": []
  }
 ],
 "metadata": {
  "kernelspec": {
   "display_name": "Python 3 (ipykernel)",
   "language": "python",
   "name": "python3"
  },
  "language_info": {
   "codemirror_mode": {
    "name": "ipython",
    "version": 3
   },
   "file_extension": ".py",
   "mimetype": "text/x-python",
   "name": "python",
   "nbconvert_exporter": "python",
   "pygments_lexer": "ipython3",
   "version": "3.11.5"
  }
 },
 "nbformat": 4,
 "nbformat_minor": 5
}
