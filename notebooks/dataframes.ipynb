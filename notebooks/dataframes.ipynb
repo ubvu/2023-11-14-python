{
 "cells": [
  {
   "cell_type": "markdown",
   "id": "4b2d0ffc-3145-4bbd-b1e5-ce2c707b12ba",
   "metadata": {},
   "source": [
    "# DataFrame"
   ]
  },
  {
   "cell_type": "markdown",
   "id": "785dccec-d39a-4031-813a-8bc0b0edfb96",
   "metadata": {},
   "source": [
    "- DataFrame represents a table\n",
    "- DataFrame is a collection of Series"
   ]
  },
  {
   "cell_type": "code",
   "execution_count": 1,
   "id": "4e33d989-7e90-4013-a47c-c1e79468bb67",
   "metadata": {},
   "outputs": [],
   "source": [
    "import pandas as pd"
   ]
  },
  {
   "cell_type": "code",
   "execution_count": 11,
   "id": "2ecc57fe-f42f-428e-9a91-55f3fc96036c",
   "metadata": {},
   "outputs": [],
   "source": [
    "data = pd.read_csv('../data/gapminder_gdp_europe.csv')\n",
    "data = pd.read_csv('../data/gapminder_gdp_europe.csv', index_col='country')"
   ]
  },
  {
   "cell_type": "markdown",
   "id": "b30edce6-56f5-43c8-b5a8-3834544d51b4",
   "metadata": {},
   "source": [
    "- by position (row, column)\n",
    "- by label"
   ]
  },
  {
   "cell_type": "code",
   "execution_count": 12,
   "id": "a6460d9c-6429-4c1f-b4b6-e982d146df27",
   "metadata": {},
   "outputs": [
    {
     "data": {
      "text/plain": [
       "'Albania'"
      ]
     },
     "execution_count": 12,
     "metadata": {},
     "output_type": "execute_result"
    }
   ],
   "source": [
    "data.iloc[0, 0]"
   ]
  },
  {
   "cell_type": "code",
   "execution_count": 14,
   "id": "bffbbc82-6e57-4fc0-a864-4d1b00e192fd",
   "metadata": {},
   "outputs": [],
   "source": [
    "data = data.set_index('country')"
   ]
  },
  {
   "cell_type": "code",
   "execution_count": null,
   "id": "88d6fae0-d8ce-4423-9751-482ecfbbddaa",
   "metadata": {},
   "outputs": [],
   "source": []
  }
 ],
 "metadata": {
  "kernelspec": {
   "display_name": "Python 3 (ipykernel)",
   "language": "python",
   "name": "python3"
  },
  "language_info": {
   "codemirror_mode": {
    "name": "ipython",
    "version": 3
   },
   "file_extension": ".py",
   "mimetype": "text/x-python",
   "name": "python",
   "nbconvert_exporter": "python",
   "pygments_lexer": "ipython3",
   "version": "3.11.3"
  }
 },
 "nbformat": 4,
 "nbformat_minor": 5
}
