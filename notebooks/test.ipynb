{
 "cells": [
  {
   "cell_type": "markdown",
   "id": "c877eab8-e316-4c2c-9e0a-6a9ff46be344",
   "metadata": {
    "tags": []
   },
   "source": [
    "## iets"
   ]
  },
  {
   "cell_type": "code",
   "execution_count": 2,
   "id": "08ffe1c3-0926-441c-8a78-9f46d6887a12",
   "metadata": {
    "tags": []
   },
   "outputs": [],
   "source": [
    "a = 1"
   ]
  },
  {
   "cell_type": "code",
   "execution_count": 3,
   "id": "4fddde2f-beef-48ec-900a-d521b25ed6c2",
   "metadata": {
    "tags": []
   },
   "outputs": [],
   "source": [
    "g=5"
   ]
  },
  {
   "cell_type": "code",
   "execution_count": 4,
   "id": "a222820b-b39f-443e-817e-f8e81187b017",
   "metadata": {
    "tags": []
   },
   "outputs": [
    {
     "data": {
      "text/plain": [
       "'a letetr'"
      ]
     },
     "execution_count": 4,
     "metadata": {},
     "output_type": "execute_result"
    }
   ],
   "source": [
    "\"a letetr\""
   ]
  }
 ],
 "metadata": {
  "kernelspec": {
   "display_name": "Python 3 (ipykernel)",
   "language": "python",
   "name": "python3"
  },
  "language_info": {
   "codemirror_mode": {
    "name": "ipython",
    "version": 3
   },
   "file_extension": ".py",
   "mimetype": "text/x-python",
   "name": "python",
   "nbconvert_exporter": "python",
   "pygments_lexer": "ipython3",
   "version": "3.11.5"
  }
 },
 "nbformat": 4,
 "nbformat_minor": 5
}
