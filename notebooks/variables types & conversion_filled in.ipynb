{
 "cells": [
  {
   "cell_type": "markdown",
   "id": "a787154e-09a2-4314-84ff-ff9e892f0e61",
   "metadata": {
    "tags": []
   },
   "source": [
    "## 02 - Variables"
   ]
  },
  {
   "cell_type": "markdown",
   "id": "a60d66ae-7709-4d27-a9ab-08f9d8b81c6a",
   "metadata": {
    "tags": []
   },
   "source": [
    "create variables"
   ]
  },
  {
   "cell_type": "code",
   "execution_count": null,
   "id": "517e053d-8b52-4bec-9b35-5b7470203ab7",
   "metadata": {},
   "outputs": [],
   "source": []
  },
  {
   "cell_type": "code",
   "execution_count": null,
   "id": "16d54b9d-f7f0-4e02-b620-c657bc20fb23",
   "metadata": {},
   "outputs": [],
   "source": []
  },
  {
   "cell_type": "markdown",
   "id": "30f15aee-a68a-4def-9ed7-5ada0ed3c51f",
   "metadata": {},
   "source": [
    "built-in print function"
   ]
  },
  {
   "cell_type": "code",
   "execution_count": null,
   "id": "69bddd26-ce6c-4d57-8bcb-1bc2bcb5c942",
   "metadata": {},
   "outputs": [],
   "source": []
  },
  {
   "cell_type": "code",
   "execution_count": null,
   "id": "c5aa5a7b-2742-4e86-a12c-5f68e2080c41",
   "metadata": {},
   "outputs": [],
   "source": []
  },
  {
   "cell_type": "code",
   "execution_count": null,
   "id": "be3534f1-948e-4efa-9ba6-0c33892d8509",
   "metadata": {},
   "outputs": [],
   "source": []
  },
  {
   "cell_type": "code",
   "execution_count": null,
   "id": "c61ddbeb-0bd9-4fa1-be0b-af592c46df22",
   "metadata": {},
   "outputs": [],
   "source": []
  },
  {
   "cell_type": "code",
   "execution_count": null,
   "id": "6ac15a2a-1e80-4d86-80f2-8d6dae416813",
   "metadata": {},
   "outputs": [],
   "source": []
  },
  {
   "cell_type": "markdown",
   "id": "8047e5da-8019-45c6-baa7-a85b6c9f5a9a",
   "metadata": {},
   "source": [
    "working with variables"
   ]
  },
  {
   "cell_type": "code",
   "execution_count": null,
   "id": "831f987b-ea4c-4bf8-97b7-b67884529095",
   "metadata": {},
   "outputs": [],
   "source": []
  },
  {
   "cell_type": "code",
   "execution_count": null,
   "id": "dddf19f5-638c-4fb6-b90b-84d451c49924",
   "metadata": {},
   "outputs": [],
   "source": []
  },
  {
   "cell_type": "code",
   "execution_count": null,
   "id": "8821a2ba-e799-408b-ab42-ebbfd01685fd",
   "metadata": {},
   "outputs": [],
   "source": []
  },
  {
   "cell_type": "code",
   "execution_count": null,
   "id": "2341b821-b857-4d4c-b192-40f3c3ec0e33",
   "metadata": {},
   "outputs": [],
   "source": []
  },
  {
   "cell_type": "markdown",
   "id": "ba69dd23-9e0c-488b-a312-69648176267a",
   "metadata": {
    "tags": []
   },
   "source": [
    "## Exercise 1 "
   ]
  },
  {
   "cell_type": "markdown",
   "id": "552f53af-c3b1-4642-87a7-93e58d755a2c",
   "metadata": {},
   "source": [
    "\n",
    "x = 1.0\n",
    "y = 3.0\n",
    "swap = x\n",
    "x = y\n",
    "y = swap\n",
    "\n",
    "what are the final values of x, y, swap?\n",
    "try without using the print function\n",
    "\n"
   ]
  },
  {
   "cell_type": "code",
   "execution_count": null,
   "id": "01d7731e-aa3f-4079-8440-d3c6ea7ca1a0",
   "metadata": {},
   "outputs": [],
   "source": []
  },
  {
   "cell_type": "markdown",
   "id": "834ced84-9644-4b2b-be9b-6340c2125945",
   "metadata": {
    "tags": []
   },
   "source": [
    "## Exercise 2 "
   ]
  },
  {
   "cell_type": "markdown",
   "id": "7861752c-eb9d-40ff-afb0-fbccc886799f",
   "metadata": {},
   "source": [
    "write a code for:\n",
    "    printing the letters rain in the word \"brainwashing\"\n",
    "    printing the last letter of \"brainwashing\"\n",
    "\n"
   ]
  },
  {
   "cell_type": "code",
   "execution_count": null,
   "id": "7cddb06a-a715-4d3e-af5f-72e7314bb3e0",
   "metadata": {},
   "outputs": [],
   "source": []
  },
  {
   "cell_type": "markdown",
   "id": "4f6c90c5-6523-4aec-9c77-d4f6622eb4c8",
   "metadata": {
    "tags": []
   },
   "source": [
    "## 03- Data Types & Conversion"
   ]
  },
  {
   "cell_type": "code",
   "execution_count": null,
   "id": "ebc0b0d7-0b5f-42c4-a64b-fa7fdf421528",
   "metadata": {},
   "outputs": [],
   "source": [
    "integer: positive or negative whole numbers\n",
    "    notation: 1, 2, -3\n",
    "    example: age\n",
    "    \n",
    "float: real/floating point numbers\n",
    "    notation: 1.0, 1.1\n",
    "    price of a bread in euro\n",
    "    \n",
    "string: character string (or simply text)\n",
    "    notation: 'asdf', \"asdf\"\n",
    "        quotes are not displayed when using print()\n",
    "    name\n",
    "        \n",
    "boolean: True/False\n",
    "\n",
    "use built-in function type() to find out about the type of:\n",
    "    a value\n",
    "    a variable (representing a value)\n"
   ]
  },
  {
   "cell_type": "markdown",
   "id": "c9e7d1d2-a72c-46ff-b0b2-15831aeb545a",
   "metadata": {
    "tags": []
   },
   "source": [
    "built-in type function"
   ]
  },
  {
   "cell_type": "code",
   "execution_count": null,
   "id": "096e0f5d-2e7a-46ca-abc9-fb61c8a14110",
   "metadata": {},
   "outputs": [],
   "source": []
  },
  {
   "cell_type": "code",
   "execution_count": null,
   "id": "7020db53-cb4a-47d0-8fab-a3e60ef9492b",
   "metadata": {},
   "outputs": [],
   "source": []
  },
  {
   "cell_type": "code",
   "execution_count": null,
   "id": "942a5b22-b9c9-4441-98b2-69e56f2303fd",
   "metadata": {},
   "outputs": [],
   "source": []
  },
  {
   "cell_type": "markdown",
   "id": "1e054159-8570-4ec1-9ae0-83e3bcd63b02",
   "metadata": {},
   "source": [
    "integers & floats"
   ]
  },
  {
   "cell_type": "code",
   "execution_count": null,
   "id": "f8b48a9a-0e36-4f30-b38c-3bdbb48bcea0",
   "metadata": {},
   "outputs": [],
   "source": []
  },
  {
   "cell_type": "code",
   "execution_count": null,
   "id": "34b2d660-c746-46e5-973c-6d097abb4f1d",
   "metadata": {},
   "outputs": [],
   "source": []
  },
  {
   "cell_type": "markdown",
   "id": "f19bf236-d276-422a-a325-2025b1299b1c",
   "metadata": {
    "tags": []
   },
   "source": [
    "strings"
   ]
  },
  {
   "cell_type": "code",
   "execution_count": null,
   "id": "059c0952-dce4-4f62-8953-6e4dff4edf96",
   "metadata": {},
   "outputs": [],
   "source": []
  },
  {
   "cell_type": "code",
   "execution_count": null,
   "id": "ec7018c3-aa33-4294-9d8b-d1f1425aa168",
   "metadata": {},
   "outputs": [],
   "source": []
  },
  {
   "cell_type": "code",
   "execution_count": null,
   "id": "7fd43326-2f44-4727-9e6e-656e5723a4aa",
   "metadata": {},
   "outputs": [],
   "source": []
  },
  {
   "cell_type": "code",
   "execution_count": null,
   "id": "c591c822-6eee-44d8-8d83-718849793b8f",
   "metadata": {},
   "outputs": [],
   "source": []
  },
  {
   "cell_type": "markdown",
   "id": "b46d8102-bd2a-4909-83ee-1fc7dc50f031",
   "metadata": {
    "tags": []
   },
   "source": [
    "conversion"
   ]
  },
  {
   "cell_type": "code",
   "execution_count": null,
   "id": "d1ceecb8-8f7f-4fac-aeab-5a95b3284416",
   "metadata": {},
   "outputs": [],
   "source": [
    "## conversion with built-in functions\n",
    "\n",
    "'string' --> integer: int('string')\n",
    "'string' --> float: float('string')\n",
    "integer --> 'string': str(integer)\n",
    "float --> 'string': str(float)\n",
    "float --> integer: int(float)\n",
    "    returns integer part of a float\n"
   ]
  },
  {
   "cell_type": "code",
   "execution_count": null,
   "id": "81f09cb7-4db6-4151-a63a-491143bf4444",
   "metadata": {},
   "outputs": [],
   "source": []
  },
  {
   "cell_type": "markdown",
   "id": "14997938-b28e-4c0b-89a9-1a54233c148f",
   "metadata": {
    "tags": []
   },
   "source": [
    "## Exercise 1"
   ]
  },
  {
   "cell_type": "markdown",
   "id": "f0a1c75c-9bac-45cc-b815-e33d5dcabe7e",
   "metadata": {},
   "source": [
    "which of the datatypes (F)loat, (I)nteger, or (S)tring can be used for the following entities\n",
    "    \n",
    "    Number of days since the start of the year\n",
    "\n",
    "    Serial number of a piece of lab equipment\n",
    "\n",
    "    Current population of a city"
   ]
  },
  {
   "cell_type": "code",
   "execution_count": null,
   "id": "bceb61f5-e9c3-4847-be08-4dc09cd5f363",
   "metadata": {},
   "outputs": [],
   "source": []
  },
  {
   "cell_type": "markdown",
   "id": "fdd1828e-0b82-443f-a12c-df1f67d7181a",
   "metadata": {
    "tags": []
   },
   "source": [
    "## Exercise 2"
   ]
  },
  {
   "cell_type": "code",
   "execution_count": null,
   "id": "670db537-1e62-41a3-ac49-ea591a58844d",
   "metadata": {},
   "outputs": [],
   "source": [
    "Given these variables:\n",
    "    \n",
    "first = 1.0\n",
    "second = \"1\"\n",
    "third = \"1.1\"\n",
    "\n",
    "Which of the following will return the floating point number 2.0?\n",
    "1. first + float(second)\n",
    "2. float(second) + float(third)\n",
    "3. first + int(third)\n",
    "4. first + int(float(third)) -> two typecasts necessary\n",
    "5. int(first) + int(float(third))\n",
    "6. 2.0 * second"
   ]
  },
  {
   "cell_type": "code",
   "execution_count": null,
   "id": "685989d7-0fdf-41b7-bdd0-ef1000f470a1",
   "metadata": {},
   "outputs": [],
   "source": []
  },
  {
   "cell_type": "code",
   "execution_count": null,
   "id": "f5cf29ef-b117-4fa9-aeaf-13d440f95081",
   "metadata": {},
   "outputs": [],
   "source": []
  },
  {
   "cell_type": "code",
   "execution_count": null,
   "id": "b8790ba0-3f79-4bad-b222-9b650d2dff12",
   "metadata": {},
   "outputs": [],
   "source": []
  }
 ],
 "metadata": {
  "kernelspec": {
   "display_name": "Python 3 (ipykernel)",
   "language": "python",
   "name": "python3"
  },
  "language_info": {
   "codemirror_mode": {
    "name": "ipython",
    "version": 3
   },
   "file_extension": ".py",
   "mimetype": "text/x-python",
   "name": "python",
   "nbconvert_exporter": "python",
   "pygments_lexer": "ipython3",
   "version": "3.11.5"
  }
 },
 "nbformat": 4,
 "nbformat_minor": 5
}
