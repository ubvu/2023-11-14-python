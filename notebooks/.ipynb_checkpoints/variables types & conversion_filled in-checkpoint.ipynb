{
 "cells": [
  {
   "cell_type": "markdown",
   "id": "a787154e-09a2-4314-84ff-ff9e892f0e61",
   "metadata": {
    "tags": []
   },
   "source": [
    "## 02 - Variables"
   ]
  },
  {
   "cell_type": "markdown",
   "id": "a60d66ae-7709-4d27-a9ab-08f9d8b81c6a",
   "metadata": {
    "tags": []
   },
   "source": [
    "create variables"
   ]
  },
  {
   "cell_type": "code",
   "execution_count": 136,
   "id": "2e0d5ba2-7609-4c6d-bc4e-5a33b20127cd",
   "metadata": {
    "tags": []
   },
   "outputs": [],
   "source": [
    "age = 34"
   ]
  },
  {
   "cell_type": "code",
   "execution_count": 135,
   "id": "bd19f119-2171-4f56-ab75-bcbaac73a669",
   "metadata": {
    "tags": []
   },
   "outputs": [],
   "source": [
    "first_name = 'Ruben'"
   ]
  },
  {
   "cell_type": "code",
   "execution_count": null,
   "id": "517e053d-8b52-4bec-9b35-5b7470203ab7",
   "metadata": {},
   "outputs": [],
   "source": []
  },
  {
   "cell_type": "code",
   "execution_count": null,
   "id": "16d54b9d-f7f0-4e02-b620-c657bc20fb23",
   "metadata": {},
   "outputs": [],
   "source": []
  },
  {
   "cell_type": "markdown",
   "id": "30f15aee-a68a-4def-9ed7-5ada0ed3c51f",
   "metadata": {},
   "source": [
    "built-in print function"
   ]
  },
  {
   "cell_type": "code",
   "execution_count": 137,
   "id": "3616e44f-9c80-4df9-b21c-5f9c24bf3f76",
   "metadata": {
    "tags": []
   },
   "outputs": [
    {
     "name": "stdout",
     "output_type": "stream",
     "text": [
      "Help on built-in function print in module builtins:\n",
      "\n",
      "print(*args, sep=' ', end='\\n', file=None, flush=False)\n",
      "    Prints the values to a stream, or to sys.stdout by default.\n",
      "    \n",
      "    sep\n",
      "      string inserted between values, default a space.\n",
      "    end\n",
      "      string appended after the last value, default a newline.\n",
      "    file\n",
      "      a file-like object (stream); defaults to the current sys.stdout.\n",
      "    flush\n",
      "      whether to forcibly flush the stream.\n",
      "\n"
     ]
    }
   ],
   "source": [
    "help(print)"
   ]
  },
  {
   "cell_type": "code",
   "execution_count": 138,
   "id": "79de357c-c71d-448a-9f0e-ae6c15f3092a",
   "metadata": {
    "tags": []
   },
   "outputs": [
    {
     "name": "stdout",
     "output_type": "stream",
     "text": [
      "34\n"
     ]
    }
   ],
   "source": [
    "print(age)"
   ]
  },
  {
   "cell_type": "code",
   "execution_count": 139,
   "id": "b90bbcaa-75a7-4bb9-8e3f-c6203e6ae403",
   "metadata": {
    "tags": []
   },
   "outputs": [
    {
     "name": "stdout",
     "output_type": "stream",
     "text": [
      "Ruben\n"
     ]
    }
   ],
   "source": [
    "print(first_name)"
   ]
  },
  {
   "cell_type": "code",
   "execution_count": 140,
   "id": "02bed802-a5e8-4ad0-a19c-4072ac44cb6c",
   "metadata": {
    "tags": []
   },
   "outputs": [
    {
     "ename": "NameError",
     "evalue": "name 'First_name' is not defined",
     "output_type": "error",
     "traceback": [
      "\u001b[1;31m---------------------------------------------------------------------------\u001b[0m",
      "\u001b[1;31mNameError\u001b[0m                                 Traceback (most recent call last)",
      "Cell \u001b[1;32mIn[140], line 1\u001b[0m\n\u001b[1;32m----> 1\u001b[0m \u001b[38;5;28mprint\u001b[39m(First_name)\n",
      "\u001b[1;31mNameError\u001b[0m: name 'First_name' is not defined"
     ]
    }
   ],
   "source": [
    "print(First_name)"
   ]
  },
  {
   "cell_type": "code",
   "execution_count": 141,
   "id": "6dddc2a0-0b25-4e49-8f07-32397501a822",
   "metadata": {
    "tags": []
   },
   "outputs": [
    {
     "name": "stdout",
     "output_type": "stream",
     "text": [
      "Ruben 34\n"
     ]
    }
   ],
   "source": [
    "print(first_name, age)"
   ]
  },
  {
   "cell_type": "code",
   "execution_count": 143,
   "id": "dba78a10-38e3-46d9-900a-5ab621f37421",
   "metadata": {
    "tags": []
   },
   "outputs": [
    {
     "name": "stdout",
     "output_type": "stream",
     "text": [
      "Ruben is 34 years old\n"
     ]
    }
   ],
   "source": [
    "print(first_name, 'is', age, 'years old')"
   ]
  },
  {
   "cell_type": "code",
   "execution_count": 144,
   "id": "17311146-7921-4023-b56d-a11d87b5d87c",
   "metadata": {
    "tags": []
   },
   "outputs": [
    {
     "name": "stdout",
     "output_type": "stream",
     "text": [
      "34 34 34\n"
     ]
    }
   ],
   "source": [
    "age= 34\n",
    "bread = 34\n",
    "yjht = 34\n",
    "print(age, bread, yjht)"
   ]
  },
  {
   "cell_type": "code",
   "execution_count": null,
   "id": "69bddd26-ce6c-4d57-8bcb-1bc2bcb5c942",
   "metadata": {},
   "outputs": [],
   "source": []
  },
  {
   "cell_type": "code",
   "execution_count": null,
   "id": "6ac15a2a-1e80-4d86-80f2-8d6dae416813",
   "metadata": {},
   "outputs": [],
   "source": []
  },
  {
   "cell_type": "markdown",
   "id": "8047e5da-8019-45c6-baa7-a85b6c9f5a9a",
   "metadata": {},
   "source": [
    "working with variables"
   ]
  },
  {
   "cell_type": "code",
   "execution_count": 145,
   "id": "b4f939a3-2c3b-49c8-8ee0-3867d26ee343",
   "metadata": {
    "tags": []
   },
   "outputs": [
    {
     "name": "stdout",
     "output_type": "stream",
     "text": [
      "age in 3 years: 37\n"
     ]
    }
   ],
   "source": [
    "age = 34\n",
    "age = age + 3\n",
    "print('age in 3 years:', age)"
   ]
  },
  {
   "cell_type": "code",
   "execution_count": 147,
   "id": "94c661fc-5ea1-4c65-9d95-2744e584a52f",
   "metadata": {
    "tags": []
   },
   "outputs": [
    {
     "name": "stdout",
     "output_type": "stream",
     "text": [
      "age in 3 years: 37\n"
     ]
    }
   ],
   "source": [
    "age = 34\n",
    "new_age = age + 3\n",
    "print('age in 3 years:', new_age)"
   ]
  },
  {
   "cell_type": "code",
   "execution_count": 149,
   "id": "c6e449a9-ffde-42d2-b801-64af35f6fa91",
   "metadata": {
    "tags": []
   },
   "outputs": [
    {
     "name": "stdout",
     "output_type": "stream",
     "text": [
      "helium starts with the letter: h\n"
     ]
    }
   ],
   "source": [
    "atom_name = 'helium'\n",
    "print('helium starts with the letter:', atom_name[0])"
   ]
  },
  {
   "cell_type": "code",
   "execution_count": 151,
   "id": "200d1467-48ec-4af3-903f-0ed7f2950e27",
   "metadata": {
    "tags": []
   },
   "outputs": [
    {
     "name": "stdout",
     "output_type": "stream",
     "text": [
      "sod\n"
     ]
    }
   ],
   "source": [
    "atom_name = 'sodium'\n",
    "first_3_letters = atom_name[0:3]\n",
    "print(first_3_letters)"
   ]
  },
  {
   "cell_type": "code",
   "execution_count": null,
   "id": "831f987b-ea4c-4bf8-97b7-b67884529095",
   "metadata": {},
   "outputs": [],
   "source": []
  },
  {
   "cell_type": "code",
   "execution_count": null,
   "id": "dddf19f5-638c-4fb6-b90b-84d451c49924",
   "metadata": {},
   "outputs": [],
   "source": []
  },
  {
   "cell_type": "code",
   "execution_count": null,
   "id": "8821a2ba-e799-408b-ab42-ebbfd01685fd",
   "metadata": {},
   "outputs": [],
   "source": []
  },
  {
   "cell_type": "code",
   "execution_count": null,
   "id": "2341b821-b857-4d4c-b192-40f3c3ec0e33",
   "metadata": {},
   "outputs": [],
   "source": []
  },
  {
   "cell_type": "markdown",
   "id": "ba69dd23-9e0c-488b-a312-69648176267a",
   "metadata": {
    "tags": []
   },
   "source": [
    "## Exercise"
   ]
  },
  {
   "cell_type": "code",
   "execution_count": null,
   "id": "e6e29ee5-9f32-4c86-b670-44d04cf11097",
   "metadata": {},
   "outputs": [],
   "source": [
    "x = 1.0\n",
    "y = 3.0\n",
    "swap = x\n",
    "x = y\n",
    "y = swap\n",
    "\n",
    "# what are the final values of x, y, swap?\n",
    "# try without using the print function\n",
    "\n",
    "# x= \n",
    "# y=\n",
    "# swap = \n",
    "\n",
    "# print(x,y,swap)"
   ]
  },
  {
   "cell_type": "code",
   "execution_count": null,
   "id": "8071d191-aef1-4d52-b9e2-bb4a0600f19a",
   "metadata": {},
   "outputs": [],
   "source": []
  },
  {
   "cell_type": "code",
   "execution_count": null,
   "id": "97e783f4-b19f-4e4a-88eb-0a8efbc4cc69",
   "metadata": {},
   "outputs": [],
   "source": []
  },
  {
   "cell_type": "code",
   "execution_count": null,
   "id": "7cddb06a-a715-4d3e-af5f-72e7314bb3e0",
   "metadata": {},
   "outputs": [],
   "source": []
  },
  {
   "cell_type": "markdown",
   "id": "4f6c90c5-6523-4aec-9c77-d4f6622eb4c8",
   "metadata": {
    "tags": []
   },
   "source": [
    "## 03- Data Types & Conversion"
   ]
  },
  {
   "cell_type": "code",
   "execution_count": null,
   "id": "ebc0b0d7-0b5f-42c4-a64b-fa7fdf421528",
   "metadata": {},
   "outputs": [],
   "source": [
    "integer: positive or negative whole numbers\n",
    "    notation: 1, 2, -3\n",
    "    example: age\n",
    "    \n",
    "float: real/floating point numbers\n",
    "    notation: 1.0, 1.1\n",
    "    price of a bread in euro\n",
    "    \n",
    "string: character string (or simply text)\n",
    "    notation: 'asdf', \"asdf\"\n",
    "        quotes are not displayed when using print()\n",
    "    name\n",
    "        \n",
    "boolean: True/False\n",
    "\n",
    "use built-in function type() to find out about the type of:\n",
    "    a value\n",
    "    a variable (representing a value)\n"
   ]
  },
  {
   "cell_type": "markdown",
   "id": "c9e7d1d2-a72c-46ff-b0b2-15831aeb545a",
   "metadata": {
    "tags": []
   },
   "source": [
    "built-in type function"
   ]
  },
  {
   "cell_type": "code",
   "execution_count": 152,
   "id": "f39a28b7-dc7d-4955-b843-cdc8cb4604be",
   "metadata": {
    "tags": []
   },
   "outputs": [
    {
     "name": "stdout",
     "output_type": "stream",
     "text": [
      "<class 'int'>\n",
      "<class 'float'>\n",
      "<class 'str'>\n",
      "<class 'str'>\n"
     ]
    }
   ],
   "source": [
    "print(type(42))\n",
    "print(type(42.0))\n",
    "print(type('fast'))\n",
    "reaction = 'fast'\n",
    "print(type(reaction))"
   ]
  },
  {
   "cell_type": "code",
   "execution_count": null,
   "id": "05882c0e-bfc7-4b0f-a1cd-706f13c89d8d",
   "metadata": {},
   "outputs": [],
   "source": []
  },
  {
   "cell_type": "code",
   "execution_count": null,
   "id": "096e0f5d-2e7a-46ca-abc9-fb61c8a14110",
   "metadata": {},
   "outputs": [],
   "source": []
  },
  {
   "cell_type": "code",
   "execution_count": null,
   "id": "942a5b22-b9c9-4441-98b2-69e56f2303fd",
   "metadata": {},
   "outputs": [],
   "source": []
  },
  {
   "cell_type": "markdown",
   "id": "1e054159-8570-4ec1-9ae0-83e3bcd63b02",
   "metadata": {},
   "source": [
    "integers & floats"
   ]
  },
  {
   "cell_type": "code",
   "execution_count": 154,
   "id": "3c8c067d-220c-491e-97d5-76376522a16c",
   "metadata": {
    "tags": []
   },
   "outputs": [
    {
     "name": "stdout",
     "output_type": "stream",
     "text": [
      "2\n",
      "86.9\n",
      "234.0\n",
      "33.333333333333336\n"
     ]
    }
   ],
   "source": [
    "print(5-3)\n",
    "print(32.7 + 54.2)\n",
    "print(3.0*78)\n",
    "print( 100 / 3)"
   ]
  },
  {
   "cell_type": "code",
   "execution_count": null,
   "id": "f8b48a9a-0e36-4f30-b38c-3bdbb48bcea0",
   "metadata": {},
   "outputs": [],
   "source": []
  },
  {
   "cell_type": "code",
   "execution_count": null,
   "id": "34b2d660-c746-46e5-973c-6d097abb4f1d",
   "metadata": {},
   "outputs": [],
   "source": []
  },
  {
   "cell_type": "markdown",
   "id": "f19bf236-d276-422a-a325-2025b1299b1c",
   "metadata": {
    "tags": []
   },
   "source": [
    "strings"
   ]
  },
  {
   "cell_type": "code",
   "execution_count": 155,
   "id": "12fa774a-4ade-4592-b905-f9c32ed56e36",
   "metadata": {
    "tags": []
   },
   "outputs": [
    {
     "ename": "TypeError",
     "evalue": "unsupported operand type(s) for -: 'str' and 'str'",
     "output_type": "error",
     "traceback": [
      "\u001b[1;31m---------------------------------------------------------------------------\u001b[0m",
      "\u001b[1;31mTypeError\u001b[0m                                 Traceback (most recent call last)",
      "Cell \u001b[1;32mIn[155], line 1\u001b[0m\n\u001b[1;32m----> 1\u001b[0m \u001b[38;5;28mprint\u001b[39m(\u001b[38;5;124m'\u001b[39m\u001b[38;5;124mhello\u001b[39m\u001b[38;5;124m'\u001b[39m \u001b[38;5;241m-\u001b[39m \u001b[38;5;124m'\u001b[39m\u001b[38;5;124mh\u001b[39m\u001b[38;5;124m'\u001b[39m)\n",
      "\u001b[1;31mTypeError\u001b[0m: unsupported operand type(s) for -: 'str' and 'str'"
     ]
    }
   ],
   "source": [
    "print('hello' - 'h')"
   ]
  },
  {
   "cell_type": "code",
   "execution_count": 156,
   "id": "d8ba11ae-1b51-481d-a32d-42a6cf898b7c",
   "metadata": {
    "tags": []
   },
   "outputs": [
    {
     "name": "stdout",
     "output_type": "stream",
     "text": [
      "helloh\n"
     ]
    }
   ],
   "source": [
    "print('hello' + 'h')"
   ]
  },
  {
   "cell_type": "code",
   "execution_count": 158,
   "id": "1e59be7a-a4fa-463c-9e35-7c1ca526678d",
   "metadata": {
    "tags": []
   },
   "outputs": [
    {
     "name": "stdout",
     "output_type": "stream",
     "text": [
      "Ruben Lacroix\n"
     ]
    }
   ],
   "source": [
    "first_name = 'Ruben'\n",
    "last_name = 'Lacroix'\n",
    "full_name = first_name + ' ' + last_name\n",
    "print(full_name)"
   ]
  },
  {
   "cell_type": "code",
   "execution_count": 159,
   "id": "0c9aa282-8ee0-454a-929d-6d55ad79019b",
   "metadata": {
    "tags": []
   },
   "outputs": [
    {
     "name": "stdout",
     "output_type": "stream",
     "text": [
      "aaaaaaaaaa\n"
     ]
    }
   ],
   "source": [
    "multiple_as = 10 * 'a'\n",
    "print(multiple_as)"
   ]
  },
  {
   "cell_type": "code",
   "execution_count": 160,
   "id": "621065e0-e582-4f60-9dfd-099754d49038",
   "metadata": {
    "tags": []
   },
   "outputs": [
    {
     "name": "stdout",
     "output_type": "stream",
     "text": [
      "10\n"
     ]
    }
   ],
   "source": [
    "print(len(multiple_as))"
   ]
  },
  {
   "cell_type": "code",
   "execution_count": null,
   "id": "059c0952-dce4-4f62-8953-6e4dff4edf96",
   "metadata": {},
   "outputs": [],
   "source": []
  },
  {
   "cell_type": "markdown",
   "id": "b46d8102-bd2a-4909-83ee-1fc7dc50f031",
   "metadata": {
    "tags": []
   },
   "source": [
    "conversion"
   ]
  },
  {
   "cell_type": "code",
   "execution_count": null,
   "id": "d1ceecb8-8f7f-4fac-aeab-5a95b3284416",
   "metadata": {},
   "outputs": [],
   "source": [
    "## conversion with built-in functions\n",
    "\n",
    "'string' --> integer: int('string')\n",
    "'string' --> float: float('string')\n",
    "integer --> 'string': str(integer)\n",
    "float --> 'string': str(float)\n",
    "float --> integer: int(float)\n",
    "    returns integer part of a float\n"
   ]
  },
  {
   "cell_type": "code",
   "execution_count": 161,
   "id": "b86cdfa4-5af3-4ead-9961-135d785034ba",
   "metadata": {
    "tags": []
   },
   "outputs": [
    {
     "ename": "TypeError",
     "evalue": "object of type 'int' has no len()",
     "output_type": "error",
     "traceback": [
      "\u001b[1;31m---------------------------------------------------------------------------\u001b[0m",
      "\u001b[1;31mTypeError\u001b[0m                                 Traceback (most recent call last)",
      "Cell \u001b[1;32mIn[161], line 1\u001b[0m\n\u001b[1;32m----> 1\u001b[0m \u001b[38;5;28mprint\u001b[39m(\u001b[38;5;28mlen\u001b[39m(\u001b[38;5;241m42\u001b[39m))\n",
      "\u001b[1;31mTypeError\u001b[0m: object of type 'int' has no len()"
     ]
    }
   ],
   "source": [
    "print(len(42))"
   ]
  },
  {
   "cell_type": "code",
   "execution_count": 163,
   "id": "be916b5e-f8c1-43f0-8ac5-9e944768ae1a",
   "metadata": {
    "tags": []
   },
   "outputs": [
    {
     "name": "stdout",
     "output_type": "stream",
     "text": [
      "2\n"
     ]
    }
   ],
   "source": [
    "print(len(str(42)))"
   ]
  },
  {
   "cell_type": "code",
   "execution_count": 164,
   "id": "0aa6f4ef-dca3-4718-b1e0-c24ba20a8394",
   "metadata": {
    "tags": []
   },
   "outputs": [
    {
     "ename": "TypeError",
     "evalue": "unsupported operand type(s) for +: 'int' and 'str'",
     "output_type": "error",
     "traceback": [
      "\u001b[1;31m---------------------------------------------------------------------------\u001b[0m",
      "\u001b[1;31mTypeError\u001b[0m                                 Traceback (most recent call last)",
      "Cell \u001b[1;32mIn[164], line 1\u001b[0m\n\u001b[1;32m----> 1\u001b[0m \u001b[38;5;28mprint\u001b[39m(\u001b[38;5;241m1\u001b[39m \u001b[38;5;241m+\u001b[39m \u001b[38;5;124m'\u001b[39m\u001b[38;5;124m2\u001b[39m\u001b[38;5;124m'\u001b[39m)\n",
      "\u001b[1;31mTypeError\u001b[0m: unsupported operand type(s) for +: 'int' and 'str'"
     ]
    }
   ],
   "source": [
    "print(1 + '2')"
   ]
  },
  {
   "cell_type": "code",
   "execution_count": 170,
   "id": "79a07473-584b-433c-81f9-c53624c13ab8",
   "metadata": {
    "tags": []
   },
   "outputs": [
    {
     "name": "stdout",
     "output_type": "stream",
     "text": [
      "3\n",
      "<class 'int'>\n"
     ]
    }
   ],
   "source": [
    "print(1 + int('2'))\n",
    "print(type(1 + int('2')))"
   ]
  },
  {
   "cell_type": "code",
   "execution_count": 167,
   "id": "09d3195d-df99-4776-aeaf-14dc19d39f75",
   "metadata": {
    "tags": []
   },
   "outputs": [
    {
     "name": "stdout",
     "output_type": "stream",
     "text": [
      "<class 'int'>\n"
     ]
    }
   ],
   "source": []
  },
  {
   "cell_type": "code",
   "execution_count": 169,
   "id": "810c8895-8530-4a36-afc8-5357566ea2cf",
   "metadata": {
    "tags": []
   },
   "outputs": [
    {
     "name": "stdout",
     "output_type": "stream",
     "text": [
      "12\n",
      "<class 'str'>\n"
     ]
    }
   ],
   "source": [
    "print(str(1) + '2')\n",
    "print(type(str(1) + '2'))"
   ]
  },
  {
   "cell_type": "code",
   "execution_count": null,
   "id": "81f09cb7-4db6-4151-a63a-491143bf4444",
   "metadata": {},
   "outputs": [],
   "source": []
  },
  {
   "cell_type": "markdown",
   "id": "14997938-b28e-4c0b-89a9-1a54233c148f",
   "metadata": {
    "tags": []
   },
   "source": [
    "## Exercise"
   ]
  },
  {
   "cell_type": "code",
   "execution_count": null,
   "id": "670db537-1e62-41a3-ac49-ea591a58844d",
   "metadata": {},
   "outputs": [],
   "source": [
    "Given these variables:\n",
    "    \n",
    "first = 1.0\n",
    "second = \"1\"\n",
    "third = \"1.1\"\n",
    "\n",
    "Which of the following will return the floating point number 2.0?\n",
    "1. first + float(second)\n",
    "2. float(second) + float(third)\n",
    "3. first + int(third)\n",
    "4. first + int(float(third)) -> two typecasts necessary\n",
    "5. int(first) + int(float(third))\n",
    "6. 2.0 * second"
   ]
  },
  {
   "cell_type": "code",
   "execution_count": null,
   "id": "685989d7-0fdf-41b7-bdd0-ef1000f470a1",
   "metadata": {},
   "outputs": [],
   "source": []
  },
  {
   "cell_type": "code",
   "execution_count": null,
   "id": "f5cf29ef-b117-4fa9-aeaf-13d440f95081",
   "metadata": {},
   "outputs": [],
   "source": []
  },
  {
   "cell_type": "code",
   "execution_count": null,
   "id": "b8790ba0-3f79-4bad-b222-9b650d2dff12",
   "metadata": {},
   "outputs": [],
   "source": []
  }
 ],
 "metadata": {
  "kernelspec": {
   "display_name": "Python 3 (ipykernel)",
   "language": "python",
   "name": "python3"
  },
  "language_info": {
   "codemirror_mode": {
    "name": "ipython",
    "version": 3
   },
   "file_extension": ".py",
   "mimetype": "text/x-python",
   "name": "python",
   "nbconvert_exporter": "python",
   "pygments_lexer": "ipython3",
   "version": "3.11.5"
  }
 },
 "nbformat": 4,
 "nbformat_minor": 5
}
