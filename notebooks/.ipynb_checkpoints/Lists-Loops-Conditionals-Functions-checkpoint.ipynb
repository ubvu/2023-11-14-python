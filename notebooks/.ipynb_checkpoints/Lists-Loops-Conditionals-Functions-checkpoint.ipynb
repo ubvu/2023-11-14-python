{
 "cells": [
  {
   "cell_type": "markdown",
   "id": "2c6c02f1-bf87-44df-b405-7478cf3e239d",
   "metadata": {},
   "source": [
    "# Lists"
   ]
  },
  {
   "cell_type": "code",
   "execution_count": null,
   "id": "afc656b7-cfef-47c8-a209-af81973f71e2",
   "metadata": {},
   "outputs": [],
   "source": []
  }
 ],
 "metadata": {
  "kernelspec": {
   "display_name": "Python 3 (ipykernel)",
   "language": "python",
   "name": "python3"
  },
  "language_info": {
   "codemirror_mode": {
    "name": "ipython",
    "version": 3
   },
   "file_extension": ".py",
   "mimetype": "text/x-python",
   "name": "python",
   "nbconvert_exporter": "python",
   "pygments_lexer": "ipython3",
   "version": "3.9.12"
  }
 },
 "nbformat": 4,
 "nbformat_minor": 5
}
