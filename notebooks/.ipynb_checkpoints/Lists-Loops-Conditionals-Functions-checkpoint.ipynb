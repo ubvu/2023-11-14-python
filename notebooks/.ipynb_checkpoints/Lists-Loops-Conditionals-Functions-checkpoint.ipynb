{
 "cells": [
  {
   "cell_type": "markdown",
   "id": "2c6c02f1-bf87-44df-b405-7478cf3e239d",
   "metadata": {},
   "source": [
    "# Lists"
   ]
  },
  {
   "cell_type": "markdown",
   "id": "6f6f32ec-587e-4bda-bb4e-0a6f450a82b4",
   "metadata": {},
   "source": [
    "## Exercise 1"
   ]
  },
  {
   "cell_type": "markdown",
   "id": "43e164bf-cf0d-42e7-9a57-1e35e9a45ab6",
   "metadata": {},
   "source": [
    "Given this:"
   ]
  },
  {
   "cell_type": "code",
   "execution_count": 1,
   "id": "f91d115a-54b2-4bfd-a0fb-556d4c16fea6",
   "metadata": {},
   "outputs": [
    {
     "name": "stdout",
     "output_type": "stream",
     "text": [
      "string to list: ['t', 'i', 'n']\n",
      "list to string: gold\n"
     ]
    }
   ],
   "source": [
    "print('string to list:', list('tin'))\n",
    "print('list to string:', ''.join(['g', 'o', 'l', 'd']))"
   ]
  },
  {
   "cell_type": "markdown",
   "id": "f8606ceb-346c-4bbe-aa09-e3525e87cec8",
   "metadata": {},
   "source": [
    "1. What does `list('some string')` do?\n",
    "2. What does `'-'.join(['x', 'y', 'z'])` generate?"
   ]
  },
  {
   "cell_type": "markdown",
   "id": "f4805d69-6eea-4ae1-afd0-00058f77023f",
   "metadata": {},
   "source": [
    "## Exercise 2"
   ]
  },
  {
   "cell_type": "markdown",
   "id": "7a2a0f79-c67a-404f-8bc8-709391739251",
   "metadata": {},
   "source": [
    "What does the following print?"
   ]
  },
  {
   "cell_type": "code",
   "execution_count": null,
   "id": "49a8576a-d38a-431d-a4fa-6d58a310838c",
   "metadata": {},
   "outputs": [],
   "source": [
    "element = 'fluorine'\n",
    "print(element[::2])\n",
    "print(element[::-1])"
   ]
  },
  {
   "cell_type": "markdown",
   "id": "242eb86d-6d77-4544-803a-83dcd87baf8c",
   "metadata": {},
   "source": [
    "1. If we write a slice as `low:high:stride`, what does stride do?\n",
    "2. What expression would select all of the even numbered items from a collection?"
   ]
  },
  {
   "cell_type": "markdown",
   "id": "2af4188d-c18c-40b5-93d0-8fa795eb12d5",
   "metadata": {},
   "source": [
    "## Exercise 3"
   ]
  },
  {
   "cell_type": "markdown",
   "id": "2e02e780-4cc0-469f-82c1-ce06ef3a276c",
   "metadata": {},
   "source": [
    "What would these two programs print? In simple terms, explain the difference between `sorted(letters)` and `letters.sort()`."
   ]
  },
  {
   "cell_type": "code",
   "execution_count": null,
   "id": "4888a496-4350-4cca-bcaa-fa512b49a271",
   "metadata": {},
   "outputs": [],
   "source": [
    "# Program A\n",
    "letters = list('gold')\n",
    "result = sorted(letters)\n",
    "print('letters is', letters, 'and result is', result)"
   ]
  },
  {
   "cell_type": "code",
   "execution_count": null,
   "id": "99b254eb-0508-4709-8d49-bd912ad14857",
   "metadata": {},
   "outputs": [],
   "source": [
    "# Program B\n",
    "letters = list('gold')\n",
    "results = letters.sort()\n",
    "print('letters is', letters, 'and result is', result)"
   ]
  },
  {
   "cell_type": "markdown",
   "id": "30279f15-5bb6-4409-bf0a-51d058fb3a37",
   "metadata": {},
   "source": [
    "## Exercise 4"
   ]
  },
  {
   "cell_type": "markdown",
   "id": "871b6a06-4711-4122-8071-7a4f9eeca03b",
   "metadata": {},
   "source": [
    "What do these two programs print? In simple terms, explain the difference between `new = old` and `new = old[:]`."
   ]
  },
  {
   "cell_type": "code",
   "execution_count": null,
   "id": "4b174892-e2ab-4a98-af75-80db66f21f89",
   "metadata": {},
   "outputs": [],
   "source": [
    "# Program A\n",
    "old = list('gold')\n",
    "new = old # simple assignment\n",
    "new[0] = 'D'\n",
    "print('new is', new, 'and old is', old)"
   ]
  },
  {
   "cell_type": "code",
   "execution_count": null,
   "id": "8b26888b-5001-42a2-9106-cfdd35589773",
   "metadata": {},
   "outputs": [],
   "source": [
    "# Program B\n",
    "old = list('gold')\n",
    "new = old[:] # assigning a slice\n",
    "new[0] = 'D'\n",
    "print('new is', new, 'and old is', old)"
   ]
  },
  {
   "cell_type": "markdown",
   "id": "db5b93e3-a62e-49ae-b807-d42758083156",
   "metadata": {},
   "source": [
    "# Loops"
   ]
  },
  {
   "cell_type": "markdown",
   "id": "89594384-8497-4c20-94d6-4c49e28810f1",
   "metadata": {},
   "source": [
    "## Exercise 1"
   ]
  },
  {
   "cell_type": "markdown",
   "id": "5dad6b00-5fcc-4ca7-aa1c-c087c0218d63",
   "metadata": {},
   "source": [
    "Fill in the blanks in the program below so that it prints `'nit'` (the reverse of the original character string `'tin'`)."
   ]
  },
  {
   "cell_type": "code",
   "execution_count": null,
   "id": "76cbb756-bb3a-4559-81a8-911ab3c77777",
   "metadata": {},
   "outputs": [],
   "source": [
    "original = 'tin'\n",
    "result = _______\n",
    "for char in original:\n",
    "    result = _______\n",
    "print(result)"
   ]
  },
  {
   "cell_type": "code",
   "execution_count": null,
   "id": "7ef9fa34-bb00-4ab3-a6c5-1e5321bf3496",
   "metadata": {},
   "outputs": [],
   "source": [
    "# solution\n",
    "original = 'tin'\n",
    "result = _______\n",
    "for char in original:\n",
    "    result = _______\n",
    "print(result)"
   ]
  },
  {
   "cell_type": "markdown",
   "id": "e4ab6145-c6e6-403f-baa2-68bb7e9029f9",
   "metadata": {},
   "source": [
    "## Exercise 2"
   ]
  },
  {
   "cell_type": "markdown",
   "id": "da59ef2c-9b29-4672-a5b4-a0ae2944b7a2",
   "metadata": {},
   "source": [
    "Fill in the blanks in the program below to produce the indicated result."
   ]
  },
  {
   "cell_type": "code",
   "execution_count": null,
   "id": "83f4c0fe-5563-4a01-a6f1-1edc8a7adc1c",
   "metadata": {},
   "outputs": [],
   "source": [
    "# List of word lengths ['red', 'green', 'blue'] => [3, 5, 4]\n",
    "lengths = ______\n",
    "for word in ['red', 'green', 'blue']:\n",
    "    lengths.______(______)\n",
    "print(lengths)"
   ]
  },
  {
   "cell_type": "code",
   "execution_count": null,
   "id": "84f08f86-3933-4f69-b23a-db35fdc5102e",
   "metadata": {},
   "outputs": [],
   "source": [
    "# solution\n",
    "lengths = ______\n",
    "for word in ['red', 'green', 'blue']:\n",
    "    lengths.______(______)\n",
    "print(lengths)"
   ]
  },
  {
   "cell_type": "markdown",
   "id": "28caed16-9a47-4960-a81b-d3f64a6c66a4",
   "metadata": {},
   "source": [
    "## Exercise 3"
   ]
  },
  {
   "cell_type": "markdown",
   "id": "a36f1e8a-a89d-4539-ade2-7fd13e79cac1",
   "metadata": {},
   "source": [
    "Reorder and properly indent the lines of code below so that they print a list with the cumulative sum of data. The result should be `[1, 3, 5, 10]`."
   ]
  },
  {
   "cell_type": "code",
   "execution_count": null,
   "id": "2c8a4cc2-06f5-450a-acfe-cb41db547fe0",
   "metadata": {},
   "outputs": [],
   "source": [
    "cumulative.append(total)\n",
    "for number in data:\n",
    "cumulative = []\n",
    "total = total + number\n",
    "total = 0\n",
    "print(cumulative)\n",
    "data = [1,2,2,5]"
   ]
  },
  {
   "cell_type": "code",
   "execution_count": null,
   "id": "0ebfbe41-f3cb-4ecb-8b4a-cb618b3c2b2c",
   "metadata": {},
   "outputs": [],
   "source": [
    "# solution\n"
   ]
  },
  {
   "cell_type": "markdown",
   "id": "fe4855fa-c201-4169-ba67-d2de16d7979a",
   "metadata": {},
   "source": [
    "# Conditionals"
   ]
  },
  {
   "cell_type": "markdown",
   "id": "19180b32-f7af-456f-a014-efae3322c5e4",
   "metadata": {},
   "source": [
    "## Exercise 1"
   ]
  },
  {
   "cell_type": "markdown",
   "id": "cbcffc8e-6550-49ab-8f37-5fbadef8359e",
   "metadata": {},
   "source": [
    "What does this program print?"
   ]
  },
  {
   "cell_type": "code",
   "execution_count": null,
   "id": "ff803c90-3548-4ab5-bd0b-35241d1fa943",
   "metadata": {},
   "outputs": [],
   "source": [
    "pressure = 71.9\n",
    "if pressure > 50.0:\n",
    "    pressure = 25.0\n",
    "elif pressure <= 50.0:\n",
    "    pressure = 0.0\n",
    "print(pressure)"
   ]
  },
  {
   "cell_type": "markdown",
   "id": "eca90161-715e-4ad1-943a-88b18d386a8c",
   "metadata": {},
   "source": [
    "## Exercise 2"
   ]
  },
  {
   "cell_type": "markdown",
   "id": "1ff2c2e8-f8e2-44c5-95cc-731963f4a2fa",
   "metadata": {},
   "source": [
    "Fill in the blanks so that this program creates a new list containing zeroes where the original list's values were negative and ones where the original list's values were positive."
   ]
  },
  {
   "cell_type": "code",
   "execution_count": null,
   "id": "2b65b541-ab7d-443e-a640-f59b9e1ea552",
   "metadata": {},
   "outputs": [],
   "source": [
    "original = [-1.5, 0.2, 0.4, 0.0, -1.3, 0.4]\n",
    "result = ______\n",
    "for value in original:\n",
    "    if ______:\n",
    "        result.append(0)\n",
    "    else:\n",
    "        ______\n",
    "print(result)\n",
    "# output => [0, 1, 1, 1, 0, 1]"
   ]
  },
  {
   "cell_type": "code",
   "execution_count": null,
   "id": "5f5efc50-3c38-46c3-8ca5-6059a683d91c",
   "metadata": {},
   "outputs": [],
   "source": [
    "# solution\n",
    "original = [-1.5, 0.2, 0.4, 0.0, -1.3, 0.4]\n",
    "result = ______\n",
    "for value in original:\n",
    "    if ______:\n",
    "        result.append(0)\n",
    "    else:\n",
    "        ______\n",
    "print(result)\n",
    "# output => [0, 1, 1, 1, 0, 1]"
   ]
  },
  {
   "cell_type": "markdown",
   "id": "9c5bc446-b8ba-4611-835e-8ad2c1b74cdc",
   "metadata": {},
   "source": [
    "## Exercise 3"
   ]
  },
  {
   "cell_type": "markdown",
   "id": "e02da9bc-2965-490c-93ca-5883abf034dd",
   "metadata": {},
   "source": [
    "Modify this program so that it only processes files with fewer than 50 records."
   ]
  },
  {
   "cell_type": "code",
   "execution_count": null,
   "id": "8a91fe8d-3f49-417b-a905-3957ae226af8",
   "metadata": {},
   "outputs": [],
   "source": [
    "import glob\n",
    "import pandas as pd\n",
    "\n",
    "for filename in glob.glob('../data/*.csv'):\n",
    "    contents = pd.read_csv(filename)\n",
    "    ______:\n",
    "        print(filename, len(contents))"
   ]
  },
  {
   "cell_type": "code",
   "execution_count": null,
   "id": "daffb6d6-4a38-4478-9cfb-130f4b71d202",
   "metadata": {},
   "outputs": [],
   "source": [
    "# solution\n",
    "import glob\n",
    "import pandas as pd\n",
    "\n",
    "for filename in glob.glob('../data/*.csv'):\n",
    "    contents = pd.read_csv(filename)\n",
    "    ______:\n",
    "        print(filename, len(contents))"
   ]
  },
  {
   "cell_type": "markdown",
   "id": "334033c0-0163-47ba-b448-27e60d82bf3d",
   "metadata": {},
   "source": [
    "# Functions"
   ]
  },
  {
   "cell_type": "markdown",
   "id": "cf00db69-9a94-4363-836d-a215ed0b4f62",
   "metadata": {},
   "source": [
    "## Exercise 1"
   ]
  },
  {
   "cell_type": "markdown",
   "id": "89731e5c-845b-4e6a-880c-fb54b43e14e8",
   "metadata": {},
   "source": [
    "1. What is wrong in this example?"
   ]
  },
  {
   "cell_type": "code",
   "execution_count": null,
   "id": "2d45fb7f-1ef0-4ac0-9422-63e855d4aef3",
   "metadata": {},
   "outputs": [],
   "source": [
    "result = print_time(11, 37, 59)\n",
    "\n",
    "def print_time(hour, minute, second):\n",
    "    time_string = str(hour) + ':' + str(minute) + ':' + str(second)\n",
    "    print(time_string)"
   ]
  },
  {
   "cell_type": "code",
   "execution_count": null,
   "id": "9a42a699-fb03-4ee2-bbcb-f5490b7e534f",
   "metadata": {},
   "outputs": [],
   "source": [
    "# solution\n"
   ]
  },
  {
   "cell_type": "markdown",
   "id": "90c73782-65c2-49d5-bf9e-4da211f7cdfa",
   "metadata": {},
   "source": [
    "2. After fixing the problem above, explain why running this example code:"
   ]
  },
  {
   "cell_type": "code",
   "execution_count": null,
   "id": "0a667dbd-9a94-4ea3-9c45-a70d11b32e6a",
   "metadata": {},
   "outputs": [],
   "source": [
    "result = print_time(11, 37, 59)\n",
    "print('result of call is:', result)"
   ]
  },
  {
   "cell_type": "markdown",
   "id": "086ad8c1-6cfc-4bda-a5ca-e61b16409275",
   "metadata": {},
   "source": [
    "Gives this output:"
   ]
  },
  {
   "cell_type": "code",
   "execution_count": null,
   "id": "19c7e588-eb1b-4e04-aa05-5df244314d4e",
   "metadata": {},
   "outputs": [],
   "source": [
    "11:37:59\n",
    "result of call is: None"
   ]
  },
  {
   "cell_type": "markdown",
   "id": "dc22b80c-e626-4d83-8fe0-98931cb944ab",
   "metadata": {},
   "source": [
    "## Exercise 2"
   ]
  },
  {
   "cell_type": "markdown",
   "id": "6e9be375-eabe-41b0-a389-be0174e16916",
   "metadata": {},
   "source": [
    "Fill in the blanks to create a function that takes a list of numbers as an argument and returns the first negative value in the list. What does your function do if the list is empty? What if the list has no negative numbers?"
   ]
  },
  {
   "cell_type": "code",
   "execution_count": null,
   "id": "59a7ece1-a5c6-44e6-9c90-2b8f51debfcd",
   "metadata": {},
   "outputs": [],
   "source": [
    "def first_negative(values):\n",
    "    for v in ______:\n",
    "        if ______:\n",
    "           return ______ "
   ]
  },
  {
   "cell_type": "code",
   "execution_count": null,
   "id": "220a60ce-c4ea-4f67-9971-b999c34bf551",
   "metadata": {},
   "outputs": [],
   "source": [
    "# solution\n",
    "def first_negative(values):\n",
    "    for v in ______:\n",
    "        if ______:\n",
    "           return ______ "
   ]
  },
  {
   "cell_type": "markdown",
   "id": "0f768939-4ba3-42f9-9d74-d6f994da69ba",
   "metadata": {},
   "source": [
    "## Exercise 3"
   ]
  },
  {
   "cell_type": "markdown",
   "id": "e0efea06-f62c-4d19-9f8b-929e79f5744d",
   "metadata": {},
   "source": [
    "In mathematics, a dynamical system is a sytem in which a function describes the time dependence of a point in a geometrical space. A canonical example of a dynamical system is the logistic map, a growth model that computes a new population density (between 0 and 1) based on the current density. In the model, time takes discrete values 0, 1, 2, ...\n",
    "\n",
    "1. Define a function called logistic_map that takes two inputs: x, representing the current population (at time t), and a parameter r = 1. This function should return a value representing the state of the system (population) at time t + 1, using the mapping function:\n",
    "\n",
    "$$ f(t+1) = r * f(t) * [1 - f(t)] $$\n"
   ]
  },
  {
   "cell_type": "code",
   "execution_count": 13,
   "id": "4532bc19-469c-494f-82c4-e130da82a4de",
   "metadata": {},
   "outputs": [],
   "source": [
    "# solution\n"
   ]
  },
  {
   "cell_type": "markdown",
   "id": "530f1933-2c0f-4593-bc71-764c3a2a2e27",
   "metadata": {},
   "source": [
    "2. Using a for loop, iterate the logistic_map function defined in part 1, starting from an initial population of 0.5, for a period of time t_final = 10. Store the intermediate results in a list so that after the loop terminates you have accumulated a sequence of values representing the state of the logistic map at times t = [0, 1, ..., t_final] (11 values in total). Print this list to see the evolution of the population."
   ]
  },
  {
   "cell_type": "code",
   "execution_count": null,
   "id": "a3791b5d-aaf6-4882-b0d7-348f18eff049",
   "metadata": {},
   "outputs": [],
   "source": [
    "# solution\n"
   ]
  },
  {
   "cell_type": "markdown",
   "id": "28ebba42-5e76-480e-b3ec-e77a2718b036",
   "metadata": {},
   "source": [
    "3. Encapsulate the logic of your loop into a function called iterate that takes the initial population as its first input, the parameter t_final as its second input and the parameter r as its third input. The function should return the list of values representing the state of the logistic map at times t = [0, 1, ..., t_final]. Run this function for periods t_final = 100 and 1000 and print some of the values. Is the population trending toward a steady state?"
   ]
  },
  {
   "cell_type": "code",
   "execution_count": null,
   "id": "aac765f7-cb45-4f7b-a563-cd4153532566",
   "metadata": {},
   "outputs": [],
   "source": [
    "# solution\n"
   ]
  }
 ],
 "metadata": {
  "kernelspec": {
   "display_name": "Python 3 (ipykernel)",
   "language": "python",
   "name": "python3"
  },
  "language_info": {
   "codemirror_mode": {
    "name": "ipython",
    "version": 3
   },
   "file_extension": ".py",
   "mimetype": "text/x-python",
   "name": "python",
   "nbconvert_exporter": "python",
   "pygments_lexer": "ipython3",
   "version": "3.9.12"
  }
 },
 "nbformat": 4,
 "nbformat_minor": 5
}
