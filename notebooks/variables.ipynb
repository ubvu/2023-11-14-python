{
 "cells": [
  {
   "cell_type": "code",
   "execution_count": 4,
   "id": "c56f0a19-41c1-4fb9-bf19-784ff60ecf42",
   "metadata": {
    "tags": []
   },
   "outputs": [],
   "source": [
    "age = 34"
   ]
  },
  {
   "cell_type": "code",
   "execution_count": 5,
   "id": "32c00440-5d62-4c7e-8723-d168341ed9ef",
   "metadata": {
    "tags": []
   },
   "outputs": [],
   "source": [
    "first_name = 'Ruben'"
   ]
  },
  {
   "cell_type": "code",
   "execution_count": 6,
   "id": "c13ce3a5-a4e6-4019-bfc9-ab254ca431af",
   "metadata": {
    "tags": []
   },
   "outputs": [
    {
     "name": "stdout",
     "output_type": "stream",
     "text": [
      "Help on built-in function print in module builtins:\n",
      "\n",
      "print(*args, sep=' ', end='\\n', file=None, flush=False)\n",
      "    Prints the values to a stream, or to sys.stdout by default.\n",
      "    \n",
      "    sep\n",
      "      string inserted between values, default a space.\n",
      "    end\n",
      "      string appended after the last value, default a newline.\n",
      "    file\n",
      "      a file-like object (stream); defaults to the current sys.stdout.\n",
      "    flush\n",
      "      whether to forcibly flush the stream.\n",
      "\n"
     ]
    }
   ],
   "source": [
    "help(print)"
   ]
  },
  {
   "cell_type": "code",
   "execution_count": 7,
   "id": "e7ecada6-0016-4eaf-9a01-dd628ba9e1a4",
   "metadata": {
    "tags": []
   },
   "outputs": [
    {
     "name": "stdout",
     "output_type": "stream",
     "text": [
      "34\n"
     ]
    }
   ],
   "source": [
    "print(age)"
   ]
  },
  {
   "cell_type": "code",
   "execution_count": 8,
   "id": "8e444f03-ca95-4d24-b39e-e5c06a2693b2",
   "metadata": {
    "tags": []
   },
   "outputs": [
    {
     "name": "stdout",
     "output_type": "stream",
     "text": [
      "Ruben\n"
     ]
    }
   ],
   "source": [
    "print(first_name)"
   ]
  },
  {
   "cell_type": "code",
   "execution_count": 9,
   "id": "4e3940c4-9c2d-4e39-811f-13af9cf8f8fa",
   "metadata": {
    "tags": []
   },
   "outputs": [
    {
     "ename": "NameError",
     "evalue": "name 'First_name' is not defined",
     "output_type": "error",
     "traceback": [
      "\u001b[1;31m---------------------------------------------------------------------------\u001b[0m",
      "\u001b[1;31mNameError\u001b[0m                                 Traceback (most recent call last)",
      "Cell \u001b[1;32mIn[9], line 1\u001b[0m\n\u001b[1;32m----> 1\u001b[0m \u001b[38;5;28mprint\u001b[39m(First_name)\n",
      "\u001b[1;31mNameError\u001b[0m: name 'First_name' is not defined"
     ]
    }
   ],
   "source": [
    "print(First_name)"
   ]
  },
  {
   "cell_type": "code",
   "execution_count": 10,
   "id": "06979211-122c-4eed-ad61-6bd0a23d5c1d",
   "metadata": {
    "tags": []
   },
   "outputs": [
    {
     "name": "stdout",
     "output_type": "stream",
     "text": [
      "Ruben 34\n"
     ]
    }
   ],
   "source": [
    "print(first_name, age)"
   ]
  },
  {
   "cell_type": "code",
   "execution_count": 12,
   "id": "7aaef4e0-36e9-40c7-a5b3-e42405bc98db",
   "metadata": {
    "tags": []
   },
   "outputs": [
    {
     "name": "stdout",
     "output_type": "stream",
     "text": [
      "Ruben is 34 years old\n"
     ]
    }
   ],
   "source": [
    "print(first_name, 'is', age, 'years old')"
   ]
  },
  {
   "cell_type": "code",
   "execution_count": 13,
   "id": "55b02a44-2940-4603-a546-2ca24fdbd3b8",
   "metadata": {
    "tags": []
   },
   "outputs": [
    {
     "name": "stdout",
     "output_type": "stream",
     "text": [
      "34\n"
     ]
    }
   ],
   "source": [
    "print(age)"
   ]
  },
  {
   "cell_type": "code",
   "execution_count": 14,
   "id": "72102a59-5ec5-418e-ba7f-6c02a6c283dd",
   "metadata": {
    "tags": []
   },
   "outputs": [
    {
     "name": "stdout",
     "output_type": "stream",
     "text": [
      "age in three years: 37\n"
     ]
    }
   ],
   "source": [
    "age = age + 3\n",
    "print('age in three years:', age)"
   ]
  },
  {
   "cell_type": "code",
   "execution_count": 15,
   "id": "414cdd3e-75c4-4a68-81f9-38857ce37b57",
   "metadata": {
    "tags": []
   },
   "outputs": [
    {
     "name": "stdout",
     "output_type": "stream",
     "text": [
      "37\n"
     ]
    }
   ],
   "source": [
    "print(age)"
   ]
  },
  {
   "cell_type": "code",
   "execution_count": 16,
   "id": "1b5211fe-e6dc-49f7-b76c-2cb11895b0f2",
   "metadata": {
    "tags": []
   },
   "outputs": [],
   "source": [
    "age =34"
   ]
  },
  {
   "cell_type": "code",
   "execution_count": 17,
   "id": "5d5c53b5-3a69-4067-8690-7e0d187e0964",
   "metadata": {
    "tags": []
   },
   "outputs": [
    {
     "name": "stdout",
     "output_type": "stream",
     "text": [
      "34 37\n"
     ]
    }
   ],
   "source": [
    "new_age = age + 3\n",
    "print(age, new_age)"
   ]
  },
  {
   "cell_type": "code",
   "execution_count": 18,
   "id": "e19ae6d5-1fa6-421d-a027-be71db5c17c4",
   "metadata": {
    "tags": []
   },
   "outputs": [
    {
     "name": "stdout",
     "output_type": "stream",
     "text": [
      "helium sodium\n"
     ]
    }
   ],
   "source": [
    "atom_name = 'helium'\n",
    "another_atom_name = \"sodium\"\n",
    "print(atom_name, another_atom_name)"
   ]
  },
  {
   "cell_type": "code",
   "execution_count": 19,
   "id": "4e635934-6dd1-4d9d-8007-59fdc645bdfe",
   "metadata": {
    "tags": []
   },
   "outputs": [
    {
     "name": "stdout",
     "output_type": "stream",
     "text": [
      "helium starts with the letter: h\n"
     ]
    }
   ],
   "source": [
    "print('helium starts with the letter:', atom_name[0])"
   ]
  },
  {
   "cell_type": "code",
   "execution_count": 20,
   "id": "04891c02-5e44-4bbf-9ecd-f2ccf5451c73",
   "metadata": {
    "tags": []
   },
   "outputs": [
    {
     "name": "stdout",
     "output_type": "stream",
     "text": [
      "hel\n"
     ]
    }
   ],
   "source": [
    "print(atom_name[0:3])"
   ]
  },
  {
   "cell_type": "code",
   "execution_count": 21,
   "id": "8c004b44-438e-4ebd-8a1d-a6325e87edf6",
   "metadata": {
    "tags": []
   },
   "outputs": [
    {
     "ename": "TypeError",
     "evalue": "'int' object is not subscriptable",
     "output_type": "error",
     "traceback": [
      "\u001b[1;31m---------------------------------------------------------------------------\u001b[0m",
      "\u001b[1;31mTypeError\u001b[0m                                 Traceback (most recent call last)",
      "Cell \u001b[1;32mIn[21], line 2\u001b[0m\n\u001b[0;32m      1\u001b[0m age \u001b[38;5;241m=\u001b[39m \u001b[38;5;241m34\u001b[39m\n\u001b[1;32m----> 2\u001b[0m age[\u001b[38;5;241m0\u001b[39m]\n",
      "\u001b[1;31mTypeError\u001b[0m: 'int' object is not subscriptable"
     ]
    }
   ],
   "source": [
    "age = 34\n",
    "age[0]"
   ]
  },
  {
   "cell_type": "code",
   "execution_count": 22,
   "id": "cbff02e2-6797-4fc0-8fa7-9d9a5bce4607",
   "metadata": {
    "tags": []
   },
   "outputs": [
    {
     "name": "stdout",
     "output_type": "stream",
     "text": [
      "6\n"
     ]
    }
   ],
   "source": [
    "print(len(atom_name))"
   ]
  },
  {
   "cell_type": "code",
   "execution_count": 23,
   "id": "1ed9f41d-208b-47ac-a827-87a5c0e6f2c3",
   "metadata": {
    "tags": []
   },
   "outputs": [
    {
     "name": "stdout",
     "output_type": "stream",
     "text": [
      "3\n"
     ]
    }
   ],
   "source": [
    "print(len(atom_name[0:3]))"
   ]
  },
  {
   "cell_type": "code",
   "execution_count": 25,
   "id": "16f903ec-d74a-48a6-bf99-93e14de21923",
   "metadata": {
    "tags": []
   },
   "outputs": [
    {
     "name": "stdout",
     "output_type": "stream",
     "text": [
      "el\n"
     ]
    }
   ],
   "source": [
    "print(atom_name[1:3])"
   ]
  },
  {
   "cell_type": "code",
   "execution_count": 26,
   "id": "96863321-4ebc-438d-bf90-2b9579c216ed",
   "metadata": {
    "tags": []
   },
   "outputs": [
    {
     "name": "stdout",
     "output_type": "stream",
     "text": [
      "rain\n"
     ]
    }
   ],
   "source": [
    "word = 'brainwashing'\n",
    "# can you write a code that returns the word rain?\n",
    "print(word[1:5])"
   ]
  },
  {
   "cell_type": "code",
   "execution_count": null,
   "id": "7e026f21-a145-4789-9951-fa50449184f6",
   "metadata": {},
   "outputs": [],
   "source": [
    "x = 1.0\n",
    "y = 3.0\n",
    "swap = x\n",
    "x = y\n",
    "y = swap\n",
    "\n",
    "# what are the final values of x,y,swap?\n",
    "# x = \n",
    "# y = \n",
    "#\n",
    "\n",
    "# print(x, y, swap)"
   ]
  }
 ],
 "metadata": {
  "kernelspec": {
   "display_name": "Python 3 (ipykernel)",
   "language": "python",
   "name": "python3"
  },
  "language_info": {
   "codemirror_mode": {
    "name": "ipython",
    "version": 3
   },
   "file_extension": ".py",
   "mimetype": "text/x-python",
   "name": "python",
   "nbconvert_exporter": "python",
   "pygments_lexer": "ipython3",
   "version": "3.11.5"
  }
 },
 "nbformat": 4,
 "nbformat_minor": 5
}
