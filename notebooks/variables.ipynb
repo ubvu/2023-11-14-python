{
 "cells": [
  {
   "cell_type": "code",
   "execution_count": 4,
   "id": "c56f0a19-41c1-4fb9-bf19-784ff60ecf42",
   "metadata": {
    "tags": []
   },
   "outputs": [],
   "source": [
    "age = 34"
   ]
  },
  {
   "cell_type": "code",
   "execution_count": 5,
   "id": "32c00440-5d62-4c7e-8723-d168341ed9ef",
   "metadata": {
    "tags": []
   },
   "outputs": [],
   "source": [
    "first_name = 'Ruben'"
   ]
  },
  {
   "cell_type": "code",
   "execution_count": null,
   "id": "c13ce3a5-a4e6-4019-bfc9-ab254ca431af",
   "metadata": {},
   "outputs": [],
   "source": [
    "print"
   ]
  }
 ],
 "metadata": {
  "kernelspec": {
   "display_name": "Python 3 (ipykernel)",
   "language": "python",
   "name": "python3"
  },
  "language_info": {
   "codemirror_mode": {
    "name": "ipython",
    "version": 3
   },
   "file_extension": ".py",
   "mimetype": "text/x-python",
   "name": "python",
   "nbconvert_exporter": "python",
   "pygments_lexer": "ipython3",
   "version": "3.11.5"
  }
 },
 "nbformat": 4,
 "nbformat_minor": 5
}
