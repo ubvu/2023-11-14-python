{
 "cells": [
  {
   "cell_type": "code",
   "execution_count": 1,
   "id": "f947d3bd-506a-4e53-a95d-2aff22a8efd5",
   "metadata": {
    "tags": []
   },
   "outputs": [
    {
     "name": "stdout",
     "output_type": "stream",
     "text": [
      "<class 'int'>\n",
      "<class 'float'>\n",
      "<class 'str'>\n",
      "<class 'str'>\n"
     ]
    }
   ],
   "source": [
    "print(type(42))\n",
    "print(type(42.0))\n",
    "print(type('fast'))\n",
    "reaction = 'fast'\n",
    "print(type(reaction))"
   ]
  },
  {
   "cell_type": "code",
   "execution_count": 2,
   "id": "91141871-82a7-4d8f-aa0e-88d3eda9e1d9",
   "metadata": {
    "tags": []
   },
   "outputs": [
    {
     "name": "stdout",
     "output_type": "stream",
     "text": [
      "2\n",
      "40.0\n"
     ]
    }
   ],
   "source": [
    "print(5-3)\n",
    "print(8.0*5)"
   ]
  },
  {
   "cell_type": "code",
   "execution_count": null,
   "id": "b8cfa4d9-d074-461a-8c4d-167f35090dcf",
   "metadata": {},
   "outputs": [],
   "source": [
    "print("
   ]
  }
 ],
 "metadata": {
  "kernelspec": {
   "display_name": "Python 3 (ipykernel)",
   "language": "python",
   "name": "python3"
  },
  "language_info": {
   "codemirror_mode": {
    "name": "ipython",
    "version": 3
   },
   "file_extension": ".py",
   "mimetype": "text/x-python",
   "name": "python",
   "nbconvert_exporter": "python",
   "pygments_lexer": "ipython3",
   "version": "3.11.5"
  }
 },
 "nbformat": 4,
 "nbformat_minor": 5
}
