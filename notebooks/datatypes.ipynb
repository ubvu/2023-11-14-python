{
 "cells": [
  {
   "cell_type": "code",
   "execution_count": 1,
   "id": "f947d3bd-506a-4e53-a95d-2aff22a8efd5",
   "metadata": {
    "tags": []
   },
   "outputs": [
    {
     "name": "stdout",
     "output_type": "stream",
     "text": [
      "<class 'int'>\n",
      "<class 'float'>\n",
      "<class 'str'>\n",
      "<class 'str'>\n"
     ]
    }
   ],
   "source": [
    "print(type(42))\n",
    "print(type(42.0))\n",
    "print(type('fast'))\n",
    "reaction = 'fast'\n",
    "print(type(reaction))"
   ]
  },
  {
   "cell_type": "code",
   "execution_count": 2,
   "id": "91141871-82a7-4d8f-aa0e-88d3eda9e1d9",
   "metadata": {
    "tags": []
   },
   "outputs": [
    {
     "name": "stdout",
     "output_type": "stream",
     "text": [
      "2\n",
      "40.0\n"
     ]
    }
   ],
   "source": [
    "print(5-3)\n",
    "print(8.0*5)"
   ]
  },
  {
   "cell_type": "code",
   "execution_count": 3,
   "id": "b8cfa4d9-d074-461a-8c4d-167f35090dcf",
   "metadata": {
    "tags": []
   },
   "outputs": [
    {
     "ename": "TypeError",
     "evalue": "unsupported operand type(s) for -: 'str' and 'str'",
     "output_type": "error",
     "traceback": [
      "\u001b[1;31m---------------------------------------------------------------------------\u001b[0m",
      "\u001b[1;31mTypeError\u001b[0m                                 Traceback (most recent call last)",
      "Cell \u001b[1;32mIn[3], line 1\u001b[0m\n\u001b[1;32m----> 1\u001b[0m \u001b[38;5;28mprint\u001b[39m(\u001b[38;5;124m'\u001b[39m\u001b[38;5;124mhello\u001b[39m\u001b[38;5;124m'\u001b[39m \u001b[38;5;241m-\u001b[39m \u001b[38;5;124m'\u001b[39m\u001b[38;5;124mh\u001b[39m\u001b[38;5;124m'\u001b[39m)\n",
      "\u001b[1;31mTypeError\u001b[0m: unsupported operand type(s) for -: 'str' and 'str'"
     ]
    }
   ],
   "source": [
    "print('hello' - 'h')"
   ]
  },
  {
   "cell_type": "code",
   "execution_count": 4,
   "id": "2be959b2-4084-4081-84a3-8b92bdb877e1",
   "metadata": {
    "tags": []
   },
   "outputs": [
    {
     "name": "stdout",
     "output_type": "stream",
     "text": [
      "helloh\n"
     ]
    }
   ],
   "source": [
    "print('hello' + 'h')"
   ]
  },
  {
   "cell_type": "code",
   "execution_count": 7,
   "id": "4e8c4f3c-bb6b-428d-820c-2c52d0558664",
   "metadata": {
    "tags": []
   },
   "outputs": [
    {
     "name": "stdout",
     "output_type": "stream",
     "text": [
      "hell\n"
     ]
    }
   ],
   "source": [
    "word = 'hello'\n",
    "print(word[0:len(word)-1])"
   ]
  },
  {
   "cell_type": "code",
   "execution_count": 11,
   "id": "db4e7e73-daea-4128-a7bd-a2110f236922",
   "metadata": {
    "tags": []
   },
   "outputs": [
    {
     "name": "stdout",
     "output_type": "stream",
     "text": [
      "Ruben Lacroix\n"
     ]
    }
   ],
   "source": [
    "first_name = 'Ruben '\n",
    "last_name = 'Lacroix'\n",
    "full_name = first_name + last_name\n",
    "print(full_name)"
   ]
  },
  {
   "cell_type": "code",
   "execution_count": 12,
   "id": "c70c18b7-1d3d-437a-b025-63df38f3f87b",
   "metadata": {
    "tags": []
   },
   "outputs": [
    {
     "name": "stdout",
     "output_type": "stream",
     "text": [
      "aaaaaaaaaa\n"
     ]
    }
   ],
   "source": [
    "multiple_a = 10 * 'a'\n",
    "print(multiple_a)"
   ]
  },
  {
   "cell_type": "code",
   "execution_count": 13,
   "id": "bfc43076-95af-4553-afab-cb9479d17804",
   "metadata": {
    "tags": []
   },
   "outputs": [
    {
     "name": "stdout",
     "output_type": "stream",
     "text": [
      "10\n"
     ]
    }
   ],
   "source": [
    "print(len(multiple_a))"
   ]
  },
  {
   "cell_type": "code",
   "execution_count": 14,
   "id": "d7065521-b2ff-4917-a322-b6cd3a8810f6",
   "metadata": {
    "tags": []
   },
   "outputs": [
    {
     "ename": "TypeError",
     "evalue": "object of type 'int' has no len()",
     "output_type": "error",
     "traceback": [
      "\u001b[1;31m---------------------------------------------------------------------------\u001b[0m",
      "\u001b[1;31mTypeError\u001b[0m                                 Traceback (most recent call last)",
      "Cell \u001b[1;32mIn[14], line 1\u001b[0m\n\u001b[1;32m----> 1\u001b[0m \u001b[38;5;28mprint\u001b[39m(\u001b[38;5;28mlen\u001b[39m(\u001b[38;5;241m42\u001b[39m))\n",
      "\u001b[1;31mTypeError\u001b[0m: object of type 'int' has no len()"
     ]
    }
   ],
   "source": [
    "print(len(42))"
   ]
  },
  {
   "cell_type": "code",
   "execution_count": 15,
   "id": "2f607ef4-a702-41bc-8e67-78696f3d46a3",
   "metadata": {
    "tags": []
   },
   "outputs": [
    {
     "ename": "TypeError",
     "evalue": "object of type 'int' has no len()",
     "output_type": "error",
     "traceback": [
      "\u001b[1;31m---------------------------------------------------------------------------\u001b[0m",
      "\u001b[1;31mTypeError\u001b[0m                                 Traceback (most recent call last)",
      "Cell \u001b[1;32mIn[15], line 2\u001b[0m\n\u001b[0;32m      1\u001b[0m age \u001b[38;5;241m=\u001b[39m \u001b[38;5;241m34\u001b[39m\n\u001b[1;32m----> 2\u001b[0m \u001b[38;5;28mprint\u001b[39m(\u001b[38;5;28mlen\u001b[39m(age))\n",
      "\u001b[1;31mTypeError\u001b[0m: object of type 'int' has no len()"
     ]
    }
   ],
   "source": [
    "age = 34\n",
    "print(len(age))"
   ]
  },
  {
   "cell_type": "code",
   "execution_count": 16,
   "id": "b972b58e-db2c-45d4-823b-08c14d5aa6d5",
   "metadata": {
    "tags": []
   },
   "outputs": [
    {
     "name": "stdout",
     "output_type": "stream",
     "text": [
      "2\n"
     ]
    }
   ],
   "source": [
    "age = 34\n",
    "age = str(age)\n",
    "print(len(age))"
   ]
  },
  {
   "cell_type": "code",
   "execution_count": 17,
   "id": "5016a7c3-bd12-478d-a25c-3cdc915511e6",
   "metadata": {
    "tags": []
   },
   "outputs": [
    {
     "name": "stdout",
     "output_type": "stream",
     "text": [
      "3\n"
     ]
    }
   ],
   "source": [
    "print(age[0])"
   ]
  },
  {
   "cell_type": "code",
   "execution_count": 18,
   "id": "1b544b84-d8c9-42c5-8590-2a9a18bd8dd0",
   "metadata": {
    "tags": []
   },
   "outputs": [
    {
     "ename": "TypeError",
     "evalue": "unsupported operand type(s) for +: 'int' and 'str'",
     "output_type": "error",
     "traceback": [
      "\u001b[1;31m---------------------------------------------------------------------------\u001b[0m",
      "\u001b[1;31mTypeError\u001b[0m                                 Traceback (most recent call last)",
      "Cell \u001b[1;32mIn[18], line 1\u001b[0m\n\u001b[1;32m----> 1\u001b[0m \u001b[38;5;28mprint\u001b[39m(\u001b[38;5;241m1\u001b[39m \u001b[38;5;241m+\u001b[39m \u001b[38;5;124m'\u001b[39m\u001b[38;5;124m2\u001b[39m\u001b[38;5;124m'\u001b[39m)\n",
      "\u001b[1;31mTypeError\u001b[0m: unsupported operand type(s) for +: 'int' and 'str'"
     ]
    }
   ],
   "source": [
    "print(1 + '2')"
   ]
  },
  {
   "cell_type": "code",
   "execution_count": 19,
   "id": "e0474b09-92bd-4c73-8e17-364e131b06a5",
   "metadata": {
    "tags": []
   },
   "outputs": [
    {
     "name": "stdout",
     "output_type": "stream",
     "text": [
      "3\n"
     ]
    }
   ],
   "source": [
    "print(1 + int('2'))"
   ]
  },
  {
   "cell_type": "code",
   "execution_count": 21,
   "id": "cf3e8072-1d87-4648-8922-63226f349a3c",
   "metadata": {
    "tags": []
   },
   "outputs": [
    {
     "name": "stdout",
     "output_type": "stream",
     "text": [
      "<class 'int'>\n"
     ]
    }
   ],
   "source": [
    "print(type(1 + int('2')))"
   ]
  },
  {
   "cell_type": "code",
   "execution_count": 22,
   "id": "ebc65e0e-5e76-4cfe-a0ad-238635c59eb8",
   "metadata": {
    "tags": []
   },
   "outputs": [
    {
     "name": "stdout",
     "output_type": "stream",
     "text": [
      "12\n"
     ]
    }
   ],
   "source": [
    "print(str(1) + '2')"
   ]
  },
  {
   "cell_type": "code",
   "execution_count": 23,
   "id": "d4c2ca5a-d38c-46d1-80d3-3d6a5f580642",
   "metadata": {
    "tags": []
   },
   "outputs": [
    {
     "name": "stdout",
     "output_type": "stream",
     "text": [
      "<class 'str'>\n"
     ]
    }
   ],
   "source": [
    "print(type(str(1) + '2'))"
   ]
  },
  {
   "cell_type": "code",
   "execution_count": null,
   "id": "0eab003b-e674-44f5-bcd9-3b3ede6fd281",
   "metadata": {},
   "outputs": [],
   "source": [
    "Which of the following will return the floating point number 2.0?\n",
    "\n",
    "1. first + float(second)\n",
    "2. float(second) + float(third)\n",
    "3. first + int(third)\n",
    "4. first + int(float(third)) -> two typecasts necessary\n",
    "5. int(first) + int(float(third))\n",
    "6. 2.0 * second\n"
   ]
  }
 ],
 "metadata": {
  "kernelspec": {
   "display_name": "Python 3 (ipykernel)",
   "language": "python",
   "name": "python3"
  },
  "language_info": {
   "codemirror_mode": {
    "name": "ipython",
    "version": 3
   },
   "file_extension": ".py",
   "mimetype": "text/x-python",
   "name": "python",
   "nbconvert_exporter": "python",
   "pygments_lexer": "ipython3",
   "version": "3.11.5"
  }
 },
 "nbformat": 4,
 "nbformat_minor": 5
}
