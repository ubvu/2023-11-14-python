{
 "cells": [
  {
   "cell_type": "code",
   "execution_count": 1,
   "id": "f947d3bd-506a-4e53-a95d-2aff22a8efd5",
   "metadata": {
    "tags": []
   },
   "outputs": [
    {
     "name": "stdout",
     "output_type": "stream",
     "text": [
      "<class 'int'>\n",
      "<class 'float'>\n",
      "<class 'str'>\n",
      "<class 'str'>\n"
     ]
    }
   ],
   "source": [
    "print(type(42))\n",
    "print(type(42.0))\n",
    "print(type('fast'))\n",
    "reaction = 'fast'\n",
    "print(type(reaction))"
   ]
  },
  {
   "cell_type": "code",
   "execution_count": 2,
   "id": "91141871-82a7-4d8f-aa0e-88d3eda9e1d9",
   "metadata": {
    "tags": []
   },
   "outputs": [
    {
     "name": "stdout",
     "output_type": "stream",
     "text": [
      "2\n",
      "40.0\n"
     ]
    }
   ],
   "source": [
    "print(5-3)\n",
    "print(8.0*5)"
   ]
  },
  {
   "cell_type": "code",
   "execution_count": 3,
   "id": "b8cfa4d9-d074-461a-8c4d-167f35090dcf",
   "metadata": {
    "tags": []
   },
   "outputs": [
    {
     "ename": "TypeError",
     "evalue": "unsupported operand type(s) for -: 'str' and 'str'",
     "output_type": "error",
     "traceback": [
      "\u001b[1;31m---------------------------------------------------------------------------\u001b[0m",
      "\u001b[1;31mTypeError\u001b[0m                                 Traceback (most recent call last)",
      "Cell \u001b[1;32mIn[3], line 1\u001b[0m\n\u001b[1;32m----> 1\u001b[0m \u001b[38;5;28mprint\u001b[39m(\u001b[38;5;124m'\u001b[39m\u001b[38;5;124mhello\u001b[39m\u001b[38;5;124m'\u001b[39m \u001b[38;5;241m-\u001b[39m \u001b[38;5;124m'\u001b[39m\u001b[38;5;124mh\u001b[39m\u001b[38;5;124m'\u001b[39m)\n",
      "\u001b[1;31mTypeError\u001b[0m: unsupported operand type(s) for -: 'str' and 'str'"
     ]
    }
   ],
   "source": [
    "print('hello' - 'h')"
   ]
  },
  {
   "cell_type": "code",
   "execution_count": 4,
   "id": "2be959b2-4084-4081-84a3-8b92bdb877e1",
   "metadata": {
    "tags": []
   },
   "outputs": [
    {
     "name": "stdout",
     "output_type": "stream",
     "text": [
      "helloh\n"
     ]
    }
   ],
   "source": [
    "print('hello' + 'h')"
   ]
  },
  {
   "cell_type": "code",
   "execution_count": 6,
   "id": "4e8c4f3c-bb6b-428d-820c-2c52d0558664",
   "metadata": {
    "tags": []
   },
   "outputs": [
    {
     "name": "stdout",
     "output_type": "stream",
     "text": [
      "hell\n"
     ]
    }
   ],
   "source": [
    "word = 'hello'\n",
    "print(word[0:4])"
   ]
  },
  {
   "cell_type": "code",
   "execution_count": null,
   "id": "db4e7e73-daea-4128-a7bd-a2110f236922",
   "metadata": {},
   "outputs": [],
   "source": []
  }
 ],
 "metadata": {
  "kernelspec": {
   "display_name": "Python 3 (ipykernel)",
   "language": "python",
   "name": "python3"
  },
  "language_info": {
   "codemirror_mode": {
    "name": "ipython",
    "version": 3
   },
   "file_extension": ".py",
   "mimetype": "text/x-python",
   "name": "python",
   "nbconvert_exporter": "python",
   "pygments_lexer": "ipython3",
   "version": "3.11.5"
  }
 },
 "nbformat": 4,
 "nbformat_minor": 5
}
