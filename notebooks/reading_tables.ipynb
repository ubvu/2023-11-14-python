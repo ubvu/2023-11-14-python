{
 "cells": [
  {
   "cell_type": "code",
   "execution_count": null,
   "id": "48a316ab-8187-461e-bb9b-6d20286cb5af",
   "metadata": {},
   "outputs": [],
   "source": [
    "# pandas: data analysis, tabular data, statistics"
   ]
  },
  {
   "cell_type": "markdown",
   "id": "e22e90ca-c6e2-4ce6-ab37-5f7d4f6b813c",
   "metadata": {},
   "source": [
    "# Importing libraries"
   ]
  },
  {
   "cell_type": "code",
   "execution_count": 1,
   "id": "861d6294-d550-4019-9ac2-7406aacca223",
   "metadata": {},
   "outputs": [],
   "source": [
    "import pandas"
   ]
  },
  {
   "cell_type": "code",
   "execution_count": null,
   "id": "69d7126f-32ef-483e-9b7d-8a5bfb6fd2ce",
   "metadata": {},
   "outputs": [],
   "source": [
    "import pandas as pd"
   ]
  }
 ],
 "metadata": {
  "kernelspec": {
   "display_name": "Python 3 (ipykernel)",
   "language": "python",
   "name": "python3"
  },
  "language_info": {
   "codemirror_mode": {
    "name": "ipython",
    "version": 3
   },
   "file_extension": ".py",
   "mimetype": "text/x-python",
   "name": "python",
   "nbconvert_exporter": "python",
   "pygments_lexer": "ipython3",
   "version": "3.11.3"
  }
 },
 "nbformat": 4,
 "nbformat_minor": 5
}
