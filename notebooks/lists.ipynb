{
 "cells": [
  {
   "cell_type": "markdown",
   "id": "b14d6ebb-9bb9-43df-8e91-53772ef2b96c",
   "metadata": {},
   "source": [
    "# List"
   ]
  },
  {
   "cell_type": "code",
   "execution_count": 1,
   "id": "879bb095-ddaf-42d1-a49d-ce728c6de75f",
   "metadata": {},
   "outputs": [
    {
     "name": "stdout",
     "output_type": "stream",
     "text": [
      "pressures : [0.273, 0.275, 0.277, 0.276]\n"
     ]
    }
   ],
   "source": [
    "pressures = [0.273, 0.275, 0.277, 0.276]\n",
    "print('pressures :', pressures)"
   ]
  },
  {
   "cell_type": "code",
   "execution_count": 2,
   "id": "32abcd93-5b2e-4791-a17e-749af5c4edbf",
   "metadata": {},
   "outputs": [
    {
     "name": "stdout",
     "output_type": "stream",
     "text": [
      "length : 4\n"
     ]
    }
   ],
   "source": [
    "print('length :', len(pressures))"
   ]
  },
  {
   "cell_type": "code",
   "execution_count": 3,
   "id": "fae107a3-2ed1-47f2-8a3a-54bf1242b3ed",
   "metadata": {},
   "outputs": [
    {
     "name": "stdout",
     "output_type": "stream",
     "text": [
      "first item of pressures: 0.273\n"
     ]
    }
   ],
   "source": [
    "print('first item of pressures:', pressures[0])"
   ]
  },
  {
   "cell_type": "code",
   "execution_count": null,
   "id": "2d77106a-5480-4e55-a5d4-f41cc29c8308",
   "metadata": {},
   "outputs": [],
   "source": [
    "print('third item of pressures:', press"
   ]
  }
 ],
 "metadata": {
  "kernelspec": {
   "display_name": "Python 3 (ipykernel)",
   "language": "python",
   "name": "python3"
  },
  "language_info": {
   "codemirror_mode": {
    "name": "ipython",
    "version": 3
   },
   "file_extension": ".py",
   "mimetype": "text/x-python",
   "name": "python",
   "nbconvert_exporter": "python",
   "pygments_lexer": "ipython3",
   "version": "3.9.12"
  }
 },
 "nbformat": 4,
 "nbformat_minor": 5
}
