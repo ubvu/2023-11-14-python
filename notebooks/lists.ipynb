{
 "cells": [
  {
   "cell_type": "markdown",
   "id": "b14d6ebb-9bb9-43df-8e91-53772ef2b96c",
   "metadata": {},
   "source": [
    "# List"
   ]
  },
  {
   "cell_type": "code",
   "execution_count": null,
   "id": "879bb095-ddaf-42d1-a49d-ce728c6de75f",
   "metadata": {},
   "outputs": [],
   "source": [
    "pressures = [0.273, 0.275, 0.277, 0.276]\n",
    "print('pressures :', p"
   ]
  }
 ],
 "metadata": {
  "kernelspec": {
   "display_name": "Python 3 (ipykernel)",
   "language": "python",
   "name": "python3"
  },
  "language_info": {
   "codemirror_mode": {
    "name": "ipython",
    "version": 3
   },
   "file_extension": ".py",
   "mimetype": "text/x-python",
   "name": "python",
   "nbconvert_exporter": "python",
   "pygments_lexer": "ipython3",
   "version": "3.9.12"
  }
 },
 "nbformat": 4,
 "nbformat_minor": 5
}
